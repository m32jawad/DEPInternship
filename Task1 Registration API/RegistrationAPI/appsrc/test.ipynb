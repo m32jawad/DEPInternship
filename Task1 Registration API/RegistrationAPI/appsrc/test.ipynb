{
 "cells": [
  {
   "cell_type": "code",
   "execution_count": 3,
   "metadata": {},
   "outputs": [],
   "source": [
    "import requests"
   ]
  },
  {
   "cell_type": "code",
   "execution_count": 39,
   "metadata": {},
   "outputs": [],
   "source": [
    "data = {\n",
    "    'apply_for':'Ambassador',\n",
    "    'fullname':'JD',\n",
    "    'email':'m32jawad@gmail.com',\n",
    "    'whatsapp':'+93232342342',\n",
    "    'gender':'male',\n",
    "    'institute':'institute',\n",
    "    'years_education':'16',\n",
    "    'region':'pk',\n",
    "    'facebook':'www.facebook.com',\n",
    "    'instagram':'www.instagram.com',\n",
    "    'linkedin':'www.linked.in',\n",
    "    'experience':'15',\n",
    "    'skills':['Leadership', 'Python'],\n",
    "}"
   ]
  },
  {
   "cell_type": "code",
   "execution_count": 40,
   "metadata": {},
   "outputs": [
    {
     "data": {
      "text/plain": [
       "{'Message': 'Data Added Successfully', 'RecordID': 4}"
      ]
     },
     "execution_count": 40,
     "metadata": {},
     "output_type": "execute_result"
    }
   ],
   "source": [
    "r = requests.post(url=\"http://localhost:8000/add_record/\", headers={\"Content-Type\":\"application/json\"}, json=data)\n",
    "r.json()"
   ]
  },
  {
   "cell_type": "code",
   "execution_count": 41,
   "metadata": {},
   "outputs": [],
   "source": [
    "r = requests.get(url=\"http://localhost:8000/get_record/4\")"
   ]
  },
  {
   "cell_type": "code",
   "execution_count": 42,
   "metadata": {},
   "outputs": [
    {
     "data": {
      "text/plain": [
       "{'role': 'Ambassador',\n",
       " 'fullname': 'JD',\n",
       " 'email': 'm32jawad@gmail.com',\n",
       " 'whatsapp': '+93232342342',\n",
       " 'gender': 'male',\n",
       " 'institute': 'institute',\n",
       " 'field_of_study': None,\n",
       " 'years_education': '16.0',\n",
       " 'region': 'pk',\n",
       " 'facebook': 'www.facebook.com',\n",
       " 'instagram': 'www.instagram.com',\n",
       " 'linkedin': 'www.linked.in',\n",
       " 'experience': '15',\n",
       " 'application_datetime': '2024-06-24T14:28:33.674897+00:00',\n",
       " 'skills': ['Leadership', 'Python']}"
      ]
     },
     "execution_count": 42,
     "metadata": {},
     "output_type": "execute_result"
    }
   ],
   "source": [
    "r.json()"
   ]
  },
  {
   "cell_type": "code",
   "execution_count": 45,
   "metadata": {},
   "outputs": [
    {
     "data": {
      "text/plain": [
       "{'Records': [{'role': 'Ambassador',\n",
       "   'fullname': 'JD',\n",
       "   'email': 'm32jawad@gmail.com',\n",
       "   'whatsapp': '+93232342342',\n",
       "   'gender': 'male',\n",
       "   'institute': 'institute',\n",
       "   'field_of_study': 'cs',\n",
       "   'years_education': '16.0',\n",
       "   'region': 'pk',\n",
       "   'facebook': 'www.facebook.com',\n",
       "   'instagram': 'www.instagram.com',\n",
       "   'linkedin': 'www.linked.in',\n",
       "   'experience': '15',\n",
       "   'application_datetime': '2024-06-24T14:15:33.737791+00:00',\n",
       "   'skills': ['Leadership', 'Python']},\n",
       "  {'role': 'Ambassador',\n",
       "   'fullname': 'JD',\n",
       "   'email': 'm32jawad@gmail.com',\n",
       "   'whatsapp': '+93232342342',\n",
       "   'gender': 'male',\n",
       "   'institute': 'institute',\n",
       "   'field_of_study': 'cs',\n",
       "   'years_education': '16.0',\n",
       "   'region': 'pk',\n",
       "   'facebook': 'www.facebook.com',\n",
       "   'instagram': 'www.instagram.com',\n",
       "   'linkedin': 'www.linked.in',\n",
       "   'experience': '15',\n",
       "   'application_datetime': '2024-06-24T14:15:47.206023+00:00',\n",
       "   'skills': ['Leadership', 'Python']},\n",
       "  {'role': 'Ambassador',\n",
       "   'fullname': 'JD',\n",
       "   'email': 'm32jawad@gmail.com',\n",
       "   'whatsapp': '+93232342342',\n",
       "   'gender': 'male',\n",
       "   'institute': 'institute',\n",
       "   'field_of_study': 'cs',\n",
       "   'years_education': '16.0',\n",
       "   'region': 'pk',\n",
       "   'facebook': 'www.facebook.com',\n",
       "   'instagram': 'www.instagram.com',\n",
       "   'linkedin': 'www.linked.in',\n",
       "   'experience': '15',\n",
       "   'application_datetime': '2024-06-24T14:17:22.904213+00:00',\n",
       "   'skills': ['Leadership', 'Python']},\n",
       "  {'role': 'Ambassador',\n",
       "   'fullname': 'JD',\n",
       "   'email': 'm32jawad@gmail.com',\n",
       "   'whatsapp': '+93232342342',\n",
       "   'gender': 'male',\n",
       "   'institute': 'institute',\n",
       "   'field_of_study': None,\n",
       "   'years_education': '16.0',\n",
       "   'region': 'pk',\n",
       "   'facebook': 'www.facebook.com',\n",
       "   'instagram': 'www.instagram.com',\n",
       "   'linkedin': 'www.linked.in',\n",
       "   'experience': '15',\n",
       "   'application_datetime': '2024-06-24T14:28:33.674897+00:00',\n",
       "   'skills': ['Leadership', 'Python']}]}"
      ]
     },
     "execution_count": 45,
     "metadata": {},
     "output_type": "execute_result"
    }
   ],
   "source": [
    "r = requests.get(url=\"http://localhost:8000/get_all_records/\")\n",
    "r.json()"
   ]
  }
 ],
 "metadata": {
  "kernelspec": {
   "display_name": ".venv",
   "language": "python",
   "name": "python3"
  },
  "language_info": {
   "codemirror_mode": {
    "name": "ipython",
    "version": 3
   },
   "file_extension": ".py",
   "mimetype": "text/x-python",
   "name": "python",
   "nbconvert_exporter": "python",
   "pygments_lexer": "ipython3",
   "version": "3.12.2"
  }
 },
 "nbformat": 4,
 "nbformat_minor": 2
}
